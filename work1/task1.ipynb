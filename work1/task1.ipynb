{
 "cells": [
  {
   "attachments": {},
   "cell_type": "markdown",
   "metadata": {},
   "source": [
    "Задание 1.\n",
    "\n",
    "Создать среду Taxi-v3, отобразить кадры среды, значение временного шага, код состояния, код действия, значение вознаграждения для 10 случайных действий."
   ]
  },
  {
   "cell_type": "code",
   "execution_count": 1,
   "metadata": {},
   "outputs": [
    {
     "name": "stdout",
     "output_type": "stream",
     "text": [
      "------- Временной шаг: 1\n",
      "Код состояния: 154\n",
      "Код действия: 3\n",
      "Вознаграждение: -1\n",
      "------- Временной шаг: 2\n",
      "Код состояния: 154\n",
      "Код действия: 3\n",
      "Вознаграждение: -1\n",
      "------- Временной шаг: 3\n",
      "Код состояния: 154\n",
      "Код действия: 3\n",
      "Вознаграждение: -1\n",
      "------- Временной шаг: 4\n",
      "Код состояния: 154\n",
      "Код действия: 5\n",
      "Вознаграждение: -10\n",
      "------- Временной шаг: 5\n",
      "Код состояния: 154\n",
      "Код действия: 5\n",
      "Вознаграждение: -10\n",
      "------- Временной шаг: 6\n",
      "Код состояния: 154\n",
      "Код действия: 3\n",
      "Вознаграждение: -1\n",
      "------- Временной шаг: 7\n",
      "Код состояния: 154\n",
      "Код действия: 4\n",
      "Вознаграждение: -10\n",
      "------- Временной шаг: 8\n",
      "Код состояния: 54\n",
      "Код действия: 1\n",
      "Вознаграждение: -1\n",
      "------- Временной шаг: 9\n",
      "Код состояния: 54\n",
      "Код действия: 3\n",
      "Вознаграждение: -1\n",
      "------- Временной шаг: 10\n",
      "Код состояния: 74\n",
      "Код действия: 2\n",
      "Вознаграждение: -1\n"
     ]
    }
   ],
   "source": [
    "import gym\n",
    "env = gym.make('Taxi-v3', render_mode=\"human\")\n",
    "env.reset()\n",
    "for t in range(10):\n",
    "    env.render()\n",
    "    action = env.action_space.sample()\n",
    "    observation, reward, terminated, truncated, info = env.step(action)  # take a random action\n",
    "    print(\"------- Временной шаг: {}\".format(t+1))\n",
    "    print(\"Код состояния: {}\".format(observation))\n",
    "    print(\"Код действия: {}\".format(action))\n",
    "    print(\"Вознаграждение: {}\".format(reward))\n",
    "env.close()"
   ]
  },
  {
   "cell_type": "code",
   "execution_count": null,
   "metadata": {},
   "outputs": [],
   "source": []
  }
 ],
 "metadata": {
  "kernelspec": {
   "display_name": "Python 3 (ipykernel)",
   "language": "python",
   "name": "python3"
  },
  "language_info": {
   "codemirror_mode": {
    "name": "ipython",
    "version": 3
   },
   "file_extension": ".py",
   "mimetype": "text/x-python",
   "name": "python",
   "nbconvert_exporter": "python",
   "pygments_lexer": "ipython3",
   "version": "3.10.6"
  }
 },
 "nbformat": 4,
 "nbformat_minor": 2
}
